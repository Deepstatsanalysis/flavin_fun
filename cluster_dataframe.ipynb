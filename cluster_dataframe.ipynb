{
 "cells": [
  {
   "cell_type": "markdown",
   "metadata": {},
   "source": [
    "# Cluster DataFrame Display #\n",
    "Code Created By: David Kim, Sabine Hutter, Tyler Walker, Ibrahim Rasheed\n",
    "\n",
    "This script simply displays the CSV file created from the clustering script, but it allows users to display specific clusters. "
   ]
  },
  {
   "cell_type": "code",
   "execution_count": 1,
   "metadata": {
    "collapsed": true
   },
   "outputs": [],
   "source": [
    "%matplotlib inline\n",
    "\n",
    "import pandas as pd\n",
    "import numpy as np\n",
    "from biopandas.pdb import PandasPdb as PandasPdb\n",
    "import csv"
   ]
  },
  {
   "cell_type": "markdown",
   "metadata": {},
   "source": [
    "## Choose CSV file to Read ##\n",
    "This block of code will ask you to input the biological assembly number and the angstrom limit. This is because the CSV files are labeled according to the which angstrom limit and which biological assemly was set in the previous clustering scipts."
   ]
  },
  {
   "cell_type": "code",
   "execution_count": 3,
   "metadata": {},
   "outputs": [
    {
     "name": "stdout",
     "output_type": "stream",
     "text": [
      "Please enter biological assembly number. Enter 0 if not reading biological assembly: 1\n",
      "Please enter desired ångström limit: 3.5\n"
     ]
    }
   ],
   "source": [
    "bioassembly = input(\"Please enter biological assembly number. Enter 0 if not reading biological assembly: \")\n",
    "angstrom_limit = float(input(\"Please enter ångström limit: \"))\n",
    "\n",
    "#Loads in DataFrame of existing data from previous clustering script\n",
    "df_frequency = pd.read_csv(\"BA\" + bioassembly + \"_\" + str(angstrom_limit) + \"Å_clustering_flavoproteins.csv\", index_col=0)"
   ]
  },
  {
   "cell_type": "markdown",
   "metadata": {},
   "source": [
    "## Choose Cluster To Display ##\n",
    "This block of code allows users to display the CSV file in a DataFrame format according to clusters. To be more specific, the user is able to choose which clusters to see. Users can choose clusters (i.e. cluster 0, 1, 2, etc.) in the code below. The user can simply replace the number below to whichever desired number."
   ]
  },
  {
   "cell_type": "code",
   "execution_count": 6,
   "metadata": {},
   "outputs": [
    {
     "data": {
      "text/html": [
       "<div>\n",
       "<style scoped>\n",
       "    .dataframe tbody tr th:only-of-type {\n",
       "        vertical-align: middle;\n",
       "    }\n",
       "\n",
       "    .dataframe tbody tr th {\n",
       "        vertical-align: top;\n",
       "    }\n",
       "\n",
       "    .dataframe thead th {\n",
       "        text-align: right;\n",
       "    }\n",
       "</style>\n",
       "<table border=\"1\" class=\"dataframe\">\n",
       "  <thead>\n",
       "    <tr style=\"text-align: right;\">\n",
       "      <th></th>\n",
       "      <th>Alcohol O</th>\n",
       "      <th>Aliphatic C</th>\n",
       "      <th>Amide C / Carboxylate C</th>\n",
       "      <th>Amide N</th>\n",
       "      <th>Amide O</th>\n",
       "      <th>Aromatic C</th>\n",
       "      <th>Carboxylate O</th>\n",
       "      <th>Guanidinium C</th>\n",
       "      <th>Guanidinium N</th>\n",
       "      <th>N/A</th>\n",
       "      <th>Primary amine N</th>\n",
       "      <th>Protonated aromatic N</th>\n",
       "      <th>Thiol S</th>\n",
       "      <th>cluster_labels_kmeans</th>\n",
       "    </tr>\n",
       "  </thead>\n",
       "  <tbody>\n",
       "    <tr>\n",
       "      <th>1ahv</th>\n",
       "      <td>72</td>\n",
       "      <td>64</td>\n",
       "      <td>0</td>\n",
       "      <td>24</td>\n",
       "      <td>8</td>\n",
       "      <td>32</td>\n",
       "      <td>0</td>\n",
       "      <td>0</td>\n",
       "      <td>8</td>\n",
       "      <td>88</td>\n",
       "      <td>0</td>\n",
       "      <td>40</td>\n",
       "      <td>0</td>\n",
       "      <td>0</td>\n",
       "    </tr>\n",
       "    <tr>\n",
       "      <th>1ahz</th>\n",
       "      <td>72</td>\n",
       "      <td>96</td>\n",
       "      <td>0</td>\n",
       "      <td>24</td>\n",
       "      <td>8</td>\n",
       "      <td>32</td>\n",
       "      <td>16</td>\n",
       "      <td>0</td>\n",
       "      <td>8</td>\n",
       "      <td>68</td>\n",
       "      <td>0</td>\n",
       "      <td>40</td>\n",
       "      <td>0</td>\n",
       "      <td>0</td>\n",
       "    </tr>\n",
       "  </tbody>\n",
       "</table>\n",
       "</div>"
      ],
      "text/plain": [
       "      Alcohol O  Aliphatic C  Amide C / Carboxylate C  Amide N  Amide O  \\\n",
       "1ahv         72           64                        0       24        8   \n",
       "1ahz         72           96                        0       24        8   \n",
       "\n",
       "      Aromatic C  Carboxylate O  Guanidinium C  Guanidinium N  N/A  \\\n",
       "1ahv          32              0              0              8   88   \n",
       "1ahz          32             16              0              8   68   \n",
       "\n",
       "      Primary amine N  Protonated aromatic N  Thiol S  cluster_labels_kmeans  \n",
       "1ahv                0                     40        0                      0  \n",
       "1ahz                0                     40        0                      0  "
      ]
     },
     "execution_count": 6,
     "metadata": {},
     "output_type": "execute_result"
    }
   ],
   "source": [
    "#Change cluster_labels_kmeans number to desired cluster\n",
    "df_frequency[df_frequency.cluster_labels_kmeans == 0]"
   ]
  },
  {
   "cell_type": "code",
   "execution_count": null,
   "metadata": {
    "collapsed": true
   },
   "outputs": [],
   "source": []
  }
 ],
 "metadata": {
  "kernelspec": {
   "display_name": "Python 3",
   "language": "python",
   "name": "python3"
  },
  "language_info": {
   "codemirror_mode": {
    "name": "ipython",
    "version": 3
   },
   "file_extension": ".py",
   "mimetype": "text/x-python",
   "name": "python",
   "nbconvert_exporter": "python",
   "pygments_lexer": "ipython3",
   "version": "3.6.3"
  }
 },
 "nbformat": 4,
 "nbformat_minor": 2
}
